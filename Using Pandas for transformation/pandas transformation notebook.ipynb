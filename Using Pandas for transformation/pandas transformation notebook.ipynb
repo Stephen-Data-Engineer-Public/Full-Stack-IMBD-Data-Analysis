{
 "cells": [
  {
   "cell_type": "markdown",
   "metadata": {},
   "source": [
    "# IBMD Data Analysis\n",
    "### Planned Action\n",
    "\n",
    "--- Define the business problem\n",
    "    ¬¬ Come up with a possible business questions\n",
    "--- Import data\n",
    "    ¬¬ Write out a short metedata description for each table\n",
    "    ¬¬ Identify possible tables from the imported data that will answer the business question\n",
    "--- Inspect the chosen dataset\n",
    "    ¬¬ Outline possible problems that could occur with the data\n",
    "    ¬¬ Profiling the data \n",
    "--- Transform the chosen dataset\n",
    "    ¬¬ Cleaning the data\n",
    "    ¬¬ Enrich the data if needed to meet business needs\n",
    "--- Verify the transformed dataset\n",
    "--- Build the data pipeline - ELT or ETL\n",
    "\n"
   ]
  },
  {
   "cell_type": "code",
   "execution_count": null,
   "metadata": {},
   "outputs": [],
   "source": [
    "# ---- Let start by inspecting the data we are dealing with.\n",
    "\n",
    "\n",
    "import pandas as pd\n",
    "\n",
    "tables = {\n",
    "    \"https://raw.githubusercontent.com/mansik95/IMDB-Analysis/master/Data/MovieLens_movies.csv\": \"movies_Id\",\n",
    "    \"https://raw.githubusercontent.com/mansik95/IMDB-Analysis/master/Data/IMDb%20BoxOfficeMojo%20-%20Brands%20(US%20%26%20Canada).tsv\": \"brands_US_and_Canada\",\n",
    "    \"https://raw.githubusercontent.com/mansik95/IMDB-Analysis/master/Data/IMDb%20BoxOfficeMojo%20-%20Brand_%20Marvel%20Comics.tsv\": \"brand_marvel_comics\",\n",
    "    \"https://raw.githubusercontent.com/mansik95/IMDB-Analysis/master/Data/The%20Numbers%20-%20Domestic%20Box%20Office%20Daily%20-%20The%20Avengers.tsv\": \"Domestic_Box_Office_Daily_The_Avengers\",\n",
    "    \"https://raw.githubusercontent.com/mansik95/IMDB-Analysis/master/Data/The%20Numbers%20-%20Domestic%20Box%20Office%20-%20Franchises.tsv\": \"Domestic_Box_Office_Franchises\",\n",
    "    \"https://raw.githubusercontent.com/mansik95/IMDB-Analysis/master/Data/The%20Numbers%20-%20Domestic%20Box%20Office%20-%20Franchises%20-%20Marvel%20Cinematic%20Universe.tsv\": \"Domestic_Box_Office_Franchises_Marvel_Cinematic\",\n",
    "    \"https://raw.githubusercontent.com/mansik95/IMDB-Analysis/master/Data/World%20Wide%20Box%20Office%20All%20Time%20Top%201000.tsv\": \"World_Wide_Box_Office_All_Time_Top_1000\",\n",
    "    \"https://raw.githubusercontent.com/mansik95/IMDB-Analysis/master/Data/IMDb%20BoxOfficeMojo%20-%20Franchises%20(US%20%26%20Canada).tsv\": \"Franchises_us_and_Canada\",\n",
    "    \"https://raw.githubusercontent.com/mansik95/IMDB-Analysis/master/Data/IMDb%20BoxOfficeMojo%20-%20Franchise_%20top20.tsv\": \"top_20_for_each_Franchise\",\n",
    "    \"https://raw.githubusercontent.com/mansik95/IMDB-Analysis/master/Data/MovieLens_tags.csv\": \"tags\"\n",
    "}\n",
    "# Dictionary to store DataFrames\n",
    "Movies_dataframes = {}\n",
    "\n",
    "for url, table_name in tables.items():\n",
    "    if url.endswith('.csv'):\n",
    "        Movies_dataframes[table_name] = pd.read_csv(url, engine=\"python\")\n",
    "        print(table_name.upper())\n",
    "        print(Movies_dataframes[table_name].head(2))\n",
    "    elif url.endswith('.tsv'):\n",
    "        Movies_dataframes[table_name] = pd.read_csv(url, delimiter='\\t', engine=\"python\")\n",
    "        print(table_name.upper())\n",
    "        print(Movies_dataframes[table_name].head(2))\n",
    "\n"
   ]
  },
  {
   "cell_type": "markdown",
   "metadata": {},
   "source": [
    "#### Required tables to answer business\n",
    "\n",
    "--- DOMESTIC_BOX_OFFICE_FRANCHISES_MARVEL_CINEMATIC\n",
    "--- DOMESTIC_BOX_OFFICE_FRANCHISES\n",
    "--- WORLD_WIDE_BOX_OFFICE_ALL_TIME_TOP_1000\n",
    "--- TOP_20_FOR_EACH_FRANCHISE"
   ]
  },
  {
   "cell_type": "code",
   "execution_count": null,
   "metadata": {},
   "outputs": [],
   "source": [
    "# ---- Let us perform a structure, data type profiling of the datasets\n",
    "for table_name, table in Movies_dataframes.items():\n",
    "    frame = pd.DataFrame(table)\n",
    "    print(table_name.upper())\n",
    "    print(frame.info())"
   ]
  },
  {
   "cell_type": "code",
   "execution_count": null,
   "metadata": {},
   "outputs": [],
   "source": []
  },
  {
   "cell_type": "markdown",
   "metadata": {},
   "source": [
    "--- list of tables that require transformation \n",
    "DOMESTIC_BOX_OFFICE_FRANCHISES\n",
    "\n",
    "    Column                   Non-Null Count  Dtype  \n",
    "---  ------                   --------------  -----  \n",
    " 2   Domestic_Box_Office      867 non-null    object ---- remove the dollar sign and convert type to int\n",
    " 3   Infl_Adj_Dom_Box_Office  867 non-null    object to int ---- remove the dollar sign and convert type to int\n",
    " 4   Worldwide_Box_Office     867 non-null    object to int ---- remove the dollar sign and convert type to int\n",
    "\n",
    "DOMESTIC_BOX_OFFICE_FRANCHISES_MARVEL_CINEMATIC\n",
    "\n",
    "    Column                Non-Null Count  Dtype \n",
    "---  ------                --------------  ----- \n",
    " 2   Production_Budget     23 non-null     object to int ---- remove the dollar sign and convert type to int\n",
    " 3   Opening_Weekend       23 non-null     object to int ---- remove the dollar sign and convert type to int\n",
    " 4   Domestic_Box_Office   23 non-null     object to int ---- remove the dollar sign and convert type to int\n",
    " 5   Worldwide_Box_Office  23 non-null     object to int ---- remove the dollar sign and convert type to int\n",
    "\n",
    "TOP_20_FOR_EACH_FRANCHISE\n",
    "\n",
    "    Column          Non-Null Count  Dtype \n",
    " \n",
    " 3   Lifetime_Gross  281 non-null    object to int ---- remove the dollar sign and convert type to int\n",
    " 4   Max_Theaters    281 non-null    object to int ---- remove the comma sign and convert type to int\n",
    " 5   Opening_Gross   281 non-null    object to int ---- remove the dollar sign and convert type to int\n",
    " 6   Open_Theaters   281 non-null    object to int ---- remove the comma sign and convert type to int\n"
   ]
  },
  {
   "cell_type": "code",
   "execution_count": null,
   "metadata": {},
   "outputs": [],
   "source": [
    "# --- Check Table columns' that needs what type of transformation,\n",
    "table_to_transform = Movies_dataframes['Table_Name']\n",
    "column_to_transform = table_to_transform.loc[:, 'column_name']\n",
    "print(column_to_transform.head(2))"
   ]
  },
  {
   "cell_type": "code",
   "execution_count": null,
   "metadata": {},
   "outputs": [],
   "source": [
    "nan_values = df.isna()  # or df.isnull()\n",
    "\n",
    "# Count NaN values in the entire DataFrame\n",
    "count_nan_values = df.isna().sum().sum()"
   ]
  },
  {
   "cell_type": "code",
   "execution_count": null,
   "metadata": {},
   "outputs": [],
   "source": [
    "# Check for NaN values in a column\n",
    "nan_values = df['column_name'].isna()  # or df['column_name'].isnull()\n",
    "\n",
    "# Count NaN values in a column\n",
    "count_nan_values = df['column_name'].isna().sum() "
   ]
  },
  {
   "cell_type": "code",
   "execution_count": 18,
   "metadata": {},
   "outputs": [
    {
     "name": "stdout",
     "output_type": "stream",
     "text": [
      "Domestic_Box_Office\n",
      "Infl_Adj_Dom_Box_Office\n",
      "Worldwide_Box_Office\n",
      "Production_Budget\n",
      "Opening_Weekend\n",
      "Domestic_Box_Office\n",
      "Worldwide_Box_Office\n",
      "Lifetime_Gross\n",
      "Opening_Gross\n",
      "Max_Theaters\n"
     ]
    }
   ],
   "source": [
    "# --- Table columns' that needs transformation,\n",
    "import numpy as np\n",
    "\n",
    "columns_to_remove_the_dollar_sign = {\n",
    "    'Domestic_Box_Office_Franchises': ['Domestic_Box_Office', 'Infl_Adj_Dom_Box_Office', 'Worldwide_Box_Office'],\n",
    "    'Domestic_Box_Office_Franchises_Marvel_Cinematic': ['Production_Budget', 'Opening_Weekend', 'Domestic_Box_Office', 'Worldwide_Box_Office'],\n",
    "    'top_20_for_each_Franchise': ['Lifetime_Gross','Opening_Gross','Max_Theaters']\n",
    "}\n",
    "\n",
    "\n",
    "\n",
    "for table_name, columns in columns_to_remove_the_dollar_sign.items():\n",
    "    for column in columns:\n",
    "        print(column)\n",
    "        if Movies_dataframes[table_name][column].dtype == 'object':\n",
    "            Movies_dataframes[table_name][column] = Movies_dataframes[table_name][column].str.replace('$', '').str.replace(',', '')\n",
    "\n",
    "\n",
    "\n",
    "\n"
   ]
  },
  {
   "cell_type": "code",
   "execution_count": 13,
   "metadata": {},
   "outputs": [
    {
     "name": "stdout",
     "output_type": "stream",
     "text": [
      "<class 'pandas.core.series.Series'>\n",
      "RangeIndex: 867 entries, 0 to 866\n",
      "Series name: Domestic_Box_Office\n",
      "Non-Null Count  Dtype\n",
      "--------------  -----\n",
      "867 non-null    int64\n",
      "dtypes: int64(1)\n",
      "memory usage: 6.9 KB\n",
      "None\n"
     ]
    }
   ],
   "source": [
    "table_to_transform = Movies_dataframes['Domestic_Box_Office_Franchises']\n",
    "column_to_transform = table_to_transform.loc[:, 'Domestic_Box_Office']\n",
    "print(column_to_transform.info())"
   ]
  },
  {
   "cell_type": "code",
   "execution_count": null,
   "metadata": {},
   "outputs": [],
   "source": [
    "# Perform the inner query to calculate Total and number of Movies per Franchise\n",
    "inner_query = Movies_dataframes['top_20_for_each_Franchise'].groupby('Franchise').agg(\n",
    "    Total=('Lifetime_Gross', 'sum'),\n",
    "    numbers_of_Movies=('Lifetime_Gross', 'count')\n",
    ")\n",
    "\n",
    "# Calculate AVG_Revenue_per_Movies\n",
    "inner_query['AVG_Revenue_per_Movies'] = inner_query['Total'] / inner_query['numbers_of_Movies']\n",
    "\n",
    "# Sort the DataFrame by AVG_Revenue_per_Movies in descending order\n",
    "result = inner_query.sort_values(by='AVG_Revenue_per_Movies', ascending=False)\n",
    "\n",
    "# Display the top 20 results\n",
    "result.head(20)\n"
   ]
  },
  {
   "cell_type": "code",
   "execution_count": null,
   "metadata": {},
   "outputs": [],
   "source": []
  },
  {
   "cell_type": "markdown",
   "metadata": {},
   "source": [
    "--\n",
    "dataframes[table_name][column] = dataframes[table_name][column].str.replace('$', '') \n",
    "\n",
    "SELECT CAST(REPLACE(REPLACE(column, '$', ''), ',', '') AS INTEGER) as column_name\n",
    "FROM table_name;"
   ]
  },
  {
   "cell_type": "code",
   "execution_count": 93,
   "metadata": {},
   "outputs": [
    {
     "name": "stdout",
     "output_type": "stream",
     "text": [
      "37478400\n",
      "256\n"
     ]
    }
   ],
   "source": [
    "K = Movies_dataframes.__sizeof__()\n",
    "F = r\"C:\\Users\\tse\\27-03-24\\Full-Stack-IMBD-Data-Analysis\\movie_data.db\"\n",
    "import os\n",
    "\n",
    "file_size = os.path.getsize(F)\n",
    "print(file_size)\n",
    "print(K)"
   ]
  }
 ],
 "metadata": {
  "kernelspec": {
   "display_name": "Python 3",
   "language": "python",
   "name": "python3"
  },
  "language_info": {
   "codemirror_mode": {
    "name": "ipython",
    "version": 3
   },
   "file_extension": ".py",
   "mimetype": "text/x-python",
   "name": "python",
   "nbconvert_exporter": "python",
   "pygments_lexer": "ipython3",
   "version": "3.11.9"
  }
 },
 "nbformat": 4,
 "nbformat_minor": 2
}
