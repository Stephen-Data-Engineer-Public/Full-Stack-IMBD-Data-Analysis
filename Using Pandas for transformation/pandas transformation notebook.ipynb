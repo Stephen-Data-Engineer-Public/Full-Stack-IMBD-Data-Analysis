{
 "cells": [
  {
   "cell_type": "markdown",
   "metadata": {},
   "source": [
    "# IBMD Data Analysis\n",
    "### Planned Action\n",
    "\n",
    "#### --- Define the business problem\n",
    "#####    ¬¬ Come up with a possible business questions\n",
    "#### --- Import data\n",
    "#####    ¬¬ Write out a short metedata description for each table\n",
    "#####    ¬¬ Identify possible tables from the imported data that will answer the business question\n",
    "#### --- Inspect the chosen dataset\n",
    "#####    ¬¬ Outline possible problems that could occur with the data\n",
    "#####    ¬¬ Profiling the data \n",
    "#### --- Transform the chosen dataset\n",
    "#####    ¬¬ Cleaning the data\n",
    "#####    ¬¬ Enrich the data if needed to meet business needs\n",
    "#### --- Verify the transformed dataset\n",
    "#### --- Build the data pipeline - ELT or ETL\n",
    "\n"
   ]
  },
  {
   "cell_type": "markdown",
   "metadata": {},
   "source": [
    "#### Required tables to answer business\n",
    "\n",
    "##### --- DOMESTIC_BOX_OFFICE_FRANCHISES_MARVEL_CINEMATIC\n",
    "##### --- DOMESTIC_BOX_OFFICE_FRANCHISES\n",
    "##### --- WORLD_WIDE_BOX_OFFICE_ALL_TIME_TOP_1000\n",
    "##### --- TOP_20_FOR_EACH_FRANCHISE"
   ]
  },
  {
   "cell_type": "markdown",
   "metadata": {},
   "source": [
    "##### --- list of tables that require transformation \n",
    "##### DOMESTIC_BOX_OFFICE_FRANCHISES\n",
    "\n",
    "#####    Column                   Non-Null Count  Dtype  \n",
    "##### ---  ------                   --------------  -----  \n",
    "##### 1   Domestic_Box_Office      867 non-null    object ---- remove the dollar sign and convert type to int\n",
    "##### 2   Infl_Adj_Dom_Box_Office  867 non-null    object to int ---- remove the dollar sign and convert type to int\n",
    "##### 3   Worldwide_Box_Office     867 non-null    object to int ---- remove the dollar sign and convert type to int\n",
    "\n",
    "##### DOMESTIC_BOX_OFFICE_FRANCHISES_MARVEL_CINEMATIC\n",
    "\n",
    "#####   Column                Non-Null Count  Dtype \n",
    "##### ---  ------                --------------  ----- \n",
    "##### 1   Production_Budget     23 non-null     object to int ---- remove the dollar sign and convert type to int\n",
    "##### 2   Opening_Weekend       23 non-null     object to int ---- remove the dollar sign and convert type to int\n",
    "##### 3   Domestic_Box_Office   23 non-null     object to int ---- remove the dollar sign and convert type to int\n",
    "##### 4   Worldwide_Box_Office  23 non-null     object to int ---- remove the dollar sign and convert type to int\n",
    "\n",
    "##### TOP_20_FOR_EACH_FRANCHISE\n",
    "\n",
    "#####    Column          Non-Null Count  Dtype \n",
    " \n",
    "##### 1   Lifetime_Gross  281 non-null    object to int ---- remove the dollar sign and convert type to int\n",
    "##### 2   Max_Theaters    281 non-null    object to int ---- remove the comma sign and convert type to int\n",
    "##### 3   Opening_Gross   281 non-null    object to int ---- remove the dollar sign and convert type to int\n",
    "##### 4   Open_Theaters   281 non-null    object to int ---- remove the comma sign and convert type to int\n"
   ]
  }
 ],
 "metadata": {
  "kernelspec": {
   "display_name": "Python 3",
   "language": "python",
   "name": "python3"
  },
  "language_info": {
   "codemirror_mode": {
    "name": "ipython",
    "version": 3
   },
   "file_extension": ".py",
   "mimetype": "text/x-python",
   "name": "python",
   "nbconvert_exporter": "python",
   "pygments_lexer": "ipython3",
   "version": "3.11.8"
  }
 },
 "nbformat": 4,
 "nbformat_minor": 2
}
